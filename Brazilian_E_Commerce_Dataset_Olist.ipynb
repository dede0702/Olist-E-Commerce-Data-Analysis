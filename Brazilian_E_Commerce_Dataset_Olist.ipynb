{
  "nbformat": 4,
  "nbformat_minor": 0,
  "metadata": {
    "colab": {
      "provenance": [],
      "authorship_tag": "ABX9TyOxbe0qTtsrR7TjPwPLiqJI",
      "include_colab_link": true
    },
    "kernelspec": {
      "name": "python3",
      "display_name": "Python 3"
    },
    "language_info": {
      "name": "python"
    }
  },
  "cells": [
    {
      "cell_type": "markdown",
      "metadata": {
        "id": "view-in-github",
        "colab_type": "text"
      },
      "source": [
        "<a href=\"https://colab.research.google.com/github/dede0702/Olist-E-Commerce-Data-Analysis/blob/main/Brazilian_E_Commerce_Dataset_Olist.ipynb\" target=\"_parent\"><img src=\"https://colab.research.google.com/assets/colab-badge.svg\" alt=\"Open In Colab\"/></a>"
      ]
    },
    {
      "cell_type": "markdown",
      "source": [
        "#📊 Análise de Dados de E-commerce Brasileiro\n",
        "\n",
        "Neste projeto, exploramos o conjunto de dados \"Brazilian E-Commerce Public Dataset by Olist\", disponível no Kaggle. Este dataset contém informações sobre 100 mil pedidos realizados entre 2016 e 2018 em uma plataforma de e-commerce brasileira, abrangendo detalhes como produtos, clientes e avaliações.\n",
        "\n",
        "O objetivo principal é analisar esses dados para extrair insights valiosos que possam informar decisões estratégicas em negócios de e-commerce.\n",
        "\n",
        "Recursos utilizados:\n",
        "\n",
        "* Repositório: [Desafio Técnico - Triggo.ai](https://github.com/Triggo-ai4/desafio-data-engineer.git)\n",
        "* Dataset: [Brazilian E-Commerce Public Dataset by Olist - Kaggle](https://www.kaggle.com/datasets/olistbr/brazilian-ecommerce/data)\n",
        "\n",
        "Este projeto é uma aplicação prática do teste técnico do programa de trainee da [triggo.ai](https://triggo.ai/), focado em Engenharia de Dados e DataOps."
      ],
      "metadata": {
        "id": "3WdM2lJmm8ss"
      }
    },
    {
      "cell_type": "markdown",
      "source": [
        "\n",
        "\n",
        "```\n",
        "# This is formatted as code\n",
        "```\n",
        "\n"
      ],
      "metadata": {
        "id": "5ONx9LPBmhZ-"
      }
    },
    {
      "cell_type": "markdown",
      "source": [
        "\n",
        "\n",
        "```\n",
        "# This is formatted as code\n",
        "```\n",
        "\n"
      ],
      "metadata": {
        "id": "pDArvpeimhVO"
      }
    },
    {
      "cell_type": "markdown",
      "source": [
        "\n",
        "\n",
        "```\n",
        "# This is formatted as code\n",
        "```\n",
        "\n"
      ],
      "metadata": {
        "id": "Lyz8Rp-6mhRI"
      }
    },
    {
      "cell_type": "markdown",
      "source": [
        "\n",
        "\n",
        "```\n",
        "# This is formatted as code\n",
        "```\n",
        "\n"
      ],
      "metadata": {
        "id": "DJDwMjHEmhKI"
      }
    },
    {
      "cell_type": "markdown",
      "source": [
        "\n",
        "\n",
        "```\n",
        "# This is formatted as code\n",
        "```\n",
        "\n"
      ],
      "metadata": {
        "id": "u-65SZyumg_U"
      }
    },
    {
      "cell_type": "markdown",
      "source": [
        "\n",
        "\n",
        "```\n",
        "# This is formatted as code\n",
        "```\n",
        "\n"
      ],
      "metadata": {
        "id": "ImiciUMwmg6l"
      }
    },
    {
      "cell_type": "markdown",
      "source": [
        "\n",
        "\n",
        "```\n",
        "# This is formatted as code\n",
        "```\n",
        "\n"
      ],
      "metadata": {
        "id": "7FonUzVqmgaK"
      }
    },
    {
      "cell_type": "markdown",
      "source": [
        "\n",
        "\n",
        "```\n",
        "# This is formatted as code\n",
        "```\n",
        "\n"
      ],
      "metadata": {
        "id": "5cHXpUzamf_R"
      }
    }
  ]
}